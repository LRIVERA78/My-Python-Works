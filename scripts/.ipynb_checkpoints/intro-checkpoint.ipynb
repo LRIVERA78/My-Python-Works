{
 "cells": [
  {
   "cell_type": "markdown",
   "id": "1ea6b702",
   "metadata": {
    "slideshow": {
     "slide_type": "notes"
    }
   },
   "source": [
    "# Tarea 1\n",
    "\n",
    "### Salario Mensual"
   ]
  },
  {
   "cell_type": "code",
   "execution_count": 5,
   "id": "287a0cb4",
   "metadata": {},
   "outputs": [
    {
     "name": "stdout",
     "output_type": "stream",
     "text": [
      "Hola\n",
      "¿Cuál es tu nombre?: Carlos\n",
      "¿Cuál es tu salario mensual?: $10000\n",
      "Tu salario semanal es: $2500.0\n",
      "Tu salario semestral es: $60000\n",
      "Tu salario anual es: $120000\n"
     ]
    }
   ],
   "source": [
    "print('Hola')\n",
    "nameEmpl = input('¿Cuál es tu nombre?: ')\n",
    "salMensEmpl = input('¿Cuál es tu salario mensual?: $')\n",
    "salMensEmpl = int(salMensEmpl)\n",
    "salSemanEmpl = salMensEmpl/4\n",
    "salSemesEmpl = salMensEmpl*6\n",
    "salAnualEmpl = salMensEmpl*12\n",
    "print(f'Tu salario semanal es: ${salSemanEmpl}')\n",
    "print(f'Tu salario semestral es: ${salSemesEmpl}')\n",
    "print(f'Tu salario anual es: ${salAnualEmpl}')"
   ]
  },
  {
   "cell_type": "markdown",
   "id": "4ab02501",
   "metadata": {},
   "source": [
    "### Información personal"
   ]
  },
  {
   "cell_type": "code",
   "execution_count": 46,
   "id": "cb7d2cf0",
   "metadata": {},
   "outputs": [
    {
     "name": "stdout",
     "output_type": "stream",
     "text": [
      "¿Cuál es tu nombre?: qqqqqq\n",
      "¿Cuál es tu género: wwwwww\n",
      "¿Cuál es tu edad?: 1111\n",
      "¿Cuál es tu email?: eeeeee\n",
      "Cuál es tu ocupación?: rrrrr\n",
      "['qqqqqq', 'wwwwww', 1111, 'eeeeee', 'rrrrr']\n",
      "5\n",
      "wwwwww\n"
     ]
    }
   ],
   "source": [
    "persData = []\n",
    "namePeople = input('¿Cuál es tu nombre?: ')\n",
    "persData.append(namePeople)\n",
    "genderPeople = input('¿Cuál es tu género: ')\n",
    "persData.append(genderPeople)\n",
    "agePeople = int(input('¿Cuál es tu edad?: '))\n",
    "persData.append(agePeople)\n",
    "mailPeople = input('¿Cuál es tu email?: ')\n",
    "persData.append(mailPeople)\n",
    "occupPeople = input('Cuál es tu ocupación?: ')\n",
    "persData.append(occupPeople)\n",
    "print(persData)\n",
    "longListPrueba = len(persData)\n",
    "print (longListPrueba)\n",
    "print (persData[1])\n",
    "    "
   ]
  },
  {
   "cell_type": "markdown",
   "id": "100a0ce2",
   "metadata": {},
   "source": [
    "### Tasa de Interés - Préstamo "
   ]
  },
  {
   "cell_type": "code",
   "execution_count": 53,
   "id": "5c92beb0",
   "metadata": {},
   "outputs": [
    {
     "name": "stdout",
     "output_type": "stream",
     "text": [
      "¿Cuál es tu nombre?: Luis\n",
      "¿Cuál es la cantidad que necesitas de préstamo?: $2000\n",
      "¿Cuál es el % de la tasa anual del préstamo?: 50\n",
      "¿En cuántas mensualidades quieres pagar el préstamo?: 12\n",
      "Luis estás solicitando un préstamo por $2000 a una tasa de interés anual del 50% para pagar en 12 meses.\n",
      "Tu deuda total a pagar por 12 meses es de: $3000.0, pagando mensualidades de: $250.0 \n"
     ]
    }
   ],
   "source": [
    "nameDeudor = input('¿Cuál es tu nombre?: ')\n",
    "dineroPrestamo = input('¿Cuál es la cantidad que necesitas de préstamo?: $')\n",
    "dineroPrestamo = int(dineroPrestamo)\n",
    "tasaAnual = input('¿Cuál es el % de la tasa anual del préstamo?: ')\n",
    "tasaAnual = int(tasaAnual)\n",
    "tiempoPrestamo = input('¿En cuántas mensualidades quieres pagar el préstamo?: ')\n",
    "tiempoPrestamo = int(tiempoPrestamo)\n",
    "inteDineroPrest = 0\n",
    "float(inteDineroPrest)\n",
    "inteDineroPrest = ((dineroPrestamo*tasaAnual)/100)\n",
    "pagoTotal = 0\n",
    "float(pagoTotal)\n",
    "pagoTotal = dineroPrestamo+inteDineroPrest\n",
    "pagoMensual = 0\n",
    "float(pagoMensual)\n",
    "pagoMensual = pagoTotal/tiempoPrestamo\n",
    "print(f'{nameDeudor} estás solicitando un préstamo por ${dineroPrestamo} a una tasa de interés anual del {tasaAnual}% para pagar en {tiempoPrestamo} meses.')\n",
    "print(f'Tu deuda total a pagar por {tiempoPrestamo} meses es de: ${pagoTotal}, pagando mensualidades de: ${pagoMensual} ')\n"
   ]
  },
  {
   "cell_type": "markdown",
   "id": "049b9b03",
   "metadata": {},
   "source": [
    "### Cálculo de áreas (cuadrado, triángulo, círculo o rectángulo)"
   ]
  },
  {
   "cell_type": "code",
   "execution_count": 70,
   "id": "c4789941",
   "metadata": {},
   "outputs": [
    {
     "name": "stdout",
     "output_type": "stream",
     "text": [
      "Puedo calcular el área de las siguientes figuras:\n",
      "1.- Cuadrado\n",
      "2.- Triángulo\n",
      "3.- Círculo\n",
      "4.- Rectángulo\n",
      "Indica el número de la figura del área a calcular: 5\n",
      "no es una opción válida\n"
     ]
    }
   ],
   "source": [
    "print('Puedo calcular el área de las siguientes figuras:')\n",
    "print('1.- Cuadrado')\n",
    "print('2.- Triángulo')\n",
    "print('3.- Círculo')\n",
    "print('4.- Rectángulo')\n",
    "numFigura = input('Indica el número de la figura del área a calcular: ')\n",
    "numFigura = int(numFigura)\n",
    "if numFigura == 1:\n",
    "    print('Has selecionado el área de un Cuadrado')\n",
    "    ladoCuadrado = input('Dame la medida de un lado del cuadrado: ')\n",
    "    ladoCuadrado = float(ladoCuadrado)\n",
    "    areaCuadrado = ladoCuadrado*ladoCuadrado\n",
    "    print(f'El área del cuadrado es: {areaCuadrado}')\n",
    "elif numFigura == 2:\n",
    "    print('Has selecionado el área de un Triángulo')\n",
    "    baseTriangulo = input('Dame la medida de la base del triángulo: ')\n",
    "    baseTriangulo = float(baseTriangulo)\n",
    "    alturaTriangulo = input('Dame la medida de la altura del triángulo: ')\n",
    "    alturaTriangulo = float(alturaTriangulo)\n",
    "    areaTriangulo = (baseTriangulo*alturaTriangulo)/2\n",
    "    print(f'El área del triángulo es: {areaTriangulo}')\n",
    "elif numFigura == 3:\n",
    "    print('Has selecionado el área de un Círculo')\n",
    "    radioCirculo = input('Dame la medida del radio del círculo: ')\n",
    "    radioCirculo = float(radioCirculo)\n",
    "    import math\n",
    "    pii = math.pi\n",
    "    areaCirculo = (pii*(radioCirculo**2))\n",
    "    print(f'El área del cículo es: {areaCirculo}')\n",
    "elif numFigura == 4:\n",
    "    print('Has selecionado el área de un Rectángulo')\n",
    "    ladoRectanguloA = input('Dame la medida del lado A del rectángulo: ')\n",
    "    ladoRectanguloA = float(ladoRectanguloA)\n",
    "    ladoRectanguloB = input('Dame la medida del lado B del rectángulo: ')\n",
    "    ladoRectanguloB = float(ladoRectanguloB)\n",
    "    areaRectangulo = ladoRectanguloA*ladoRectanguloB\n",
    "    print(f'El área del rectángulo es: {areaRectangulo}')\n",
    "else:\n",
    "    print('no es una opción válida')"
   ]
  }
 ],
 "metadata": {
  "celltoolbar": "Tags",
  "kernelspec": {
   "display_name": "Python 3 (ipykernel)",
   "language": "python",
   "name": "python3"
  },
  "language_info": {
   "codemirror_mode": {
    "name": "ipython",
    "version": 3
   },
   "file_extension": ".py",
   "mimetype": "text/x-python",
   "name": "python",
   "nbconvert_exporter": "python",
   "pygments_lexer": "ipython3",
   "version": "3.11.2"
  }
 },
 "nbformat": 4,
 "nbformat_minor": 5
}
